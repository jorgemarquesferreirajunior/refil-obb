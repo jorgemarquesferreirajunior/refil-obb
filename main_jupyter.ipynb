{
 "cells": [
  {
   "cell_type": "code",
   "execution_count": 2,
   "metadata": {},
   "outputs": [],
   "source": [
    "from CapturaCamera import *\n",
    "from ClienteTCP import *\n",
    "from CompiladorImagem import *\n",
    "from DetectorDeObjetos import *\n",
    "from UtilitariosArquivo import *"
   ]
  },
  {
   "cell_type": "code",
   "execution_count": 5,
   "metadata": {},
   "outputs": [
    {
     "data": {
      "text/plain": [
       "'/home/scope/PyWork/refilObb'"
      ]
     },
     "execution_count": 5,
     "metadata": {},
     "output_type": "execute_result"
    }
   ],
   "source": [
    "PASTA_HOME = os.getcwd()\n",
    "PASTA_HOME"
   ]
  },
  {
   "cell_type": "code",
   "execution_count": 6,
   "metadata": {},
   "outputs": [
    {
     "data": {
      "text/plain": [
       "'/home/scope/PyWork/refilObb/datasets'"
      ]
     },
     "execution_count": 6,
     "metadata": {},
     "output_type": "execute_result"
    }
   ],
   "source": [
    "CAMINHO_CONJUNTO_DADOS = UtilitariosArquivo.descompactar_arquivo(os.path.join(PASTA_HOME, \"imagens.zip\"), PASTA_HOME)\n",
    "CAMINHO_CONJUNTO_DADOS"
   ]
  },
  {
   "cell_type": "code",
   "execution_count": 7,
   "metadata": {},
   "outputs": [
    {
     "data": {
      "text/plain": [
       "'/home/scope/PyWork/refilObb/datasets/best.pt'"
      ]
     },
     "execution_count": 7,
     "metadata": {},
     "output_type": "execute_result"
    }
   ],
   "source": [
    "caminho_modelo = UtilitariosArquivo.procurar_arquivo(CAMINHO_CONJUNTO_DADOS, 'best.pt')\n",
    "caminho_modelo"
   ]
  },
  {
   "cell_type": "code",
   "execution_count": 9,
   "metadata": {},
   "outputs": [
    {
     "data": {
      "text/plain": [
       "'/home/scope/PyWork/refilObb/resultados'"
      ]
     },
     "execution_count": 9,
     "metadata": {},
     "output_type": "execute_result"
    }
   ],
   "source": [
    "caminho_resultados = UtilitariosArquivo.criar_pasta('resultados', PASTA_HOME)\n",
    "caminho_resultados"
   ]
  },
  {
   "cell_type": "code",
   "execution_count": 10,
   "metadata": {},
   "outputs": [],
   "source": [
    "detector_objetos = DetectorObjetos(caminho_modelo)"
   ]
  },
  {
   "cell_type": "code",
   "execution_count": 11,
   "metadata": {},
   "outputs": [
    {
     "data": {
      "text/plain": [
       "['/home/scope/PyWork/refilObb/datasets/test/images/37_jpg.rf.a4c23f3c139973b93654f341314c1a44.jpg',\n",
       " '/home/scope/PyWork/refilObb/datasets/test/images/24_jpg.rf.37474b29f1986616630e098290d62607.jpg',\n",
       " '/home/scope/PyWork/refilObb/datasets/test/images/50_jpg.rf.5b89bed4877d225b4789d1c88d705d33.jpg',\n",
       " '/home/scope/PyWork/refilObb/datasets/test/images/39_jpg.rf.e794895213b45c5a4e60ef5abcb31fb4.jpg',\n",
       " '/home/scope/PyWork/refilObb/datasets/test/images/20_jpg.rf.c2750409ca96a1b96dd51a55f8d24453.jpg']"
      ]
     },
     "execution_count": 11,
     "metadata": {},
     "output_type": "execute_result"
    }
   ],
   "source": [
    "IMAGENS_TESTE = UtilitariosArquivo.listar_imagens_pasta(os.path.join(CAMINHO_CONJUNTO_DADOS, 'test', 'images'))\n",
    "IMAGENS_TESTE"
   ]
  },
  {
   "cell_type": "code",
   "execution_count": 12,
   "metadata": {},
   "outputs": [
    {
     "name": "stdout",
     "output_type": "stream",
     "text": [
      "Encontrados 5 itens.\n",
      "Pasta esvaziada com sucesso!\n",
      "\n",
      "0: 640x640 12.0ms\n",
      "Speed: 8.5ms preprocess, 12.0ms inference, 13.2ms postprocess per image at shape (1, 3, 640, 640)\n"
     ]
    },
    {
     "ename": "NameError",
     "evalue": "name 'pasta_resultados' is not defined",
     "output_type": "error",
     "traceback": [
      "\u001b[0;31m---------------------------------------------------------------------------\u001b[0m",
      "\u001b[0;31mNameError\u001b[0m                                 Traceback (most recent call last)",
      "Cell \u001b[0;32mIn[12], line 1\u001b[0m\n\u001b[0;32m----> 1\u001b[0m lista_confiancas, lista_coordenadas, lista_centros, lista_coords_ab, lista_inclinacoes \u001b[38;5;241m=\u001b[39m \u001b[43mdetector_objetos\u001b[49m\u001b[38;5;241;43m.\u001b[39;49m\u001b[43mprever_lista\u001b[49m\u001b[43m(\u001b[49m\u001b[43mIMAGENS_TESTE\u001b[49m\u001b[43m,\u001b[49m\u001b[43m \u001b[49m\u001b[43mdetector_objetos\u001b[49m\u001b[43m,\u001b[49m\u001b[43m \u001b[49m\u001b[43mcaminho_resultados\u001b[49m\u001b[43m,\u001b[49m\u001b[43m \u001b[49m\u001b[43mlimiar_acuracia\u001b[49m\u001b[38;5;241;43m=\u001b[39;49m\u001b[38;5;241;43m0.81\u001b[39;49m\u001b[43m,\u001b[49m\u001b[43m \u001b[49m\u001b[43mlimpar_pasta_resultados\u001b[49m\u001b[38;5;241;43m=\u001b[39;49m\u001b[38;5;28;43;01mTrue\u001b[39;49;00m\u001b[43m)\u001b[49m\n",
      "File \u001b[0;32m~/PyWork/refilObb/DetectorDeObjetos.py:36\u001b[0m, in \u001b[0;36mDetectorObjetos.prever_lista\u001b[0;34m(self, lista_imagens, detector, pasta_resultados, limiar_acuracia, limpar_pasta_resultados)\u001b[0m\n\u001b[1;32m     33\u001b[0m inclinacoes \u001b[38;5;241m=\u001b[39m []\n\u001b[1;32m     35\u001b[0m \u001b[38;5;28;01mfor\u001b[39;00m img \u001b[38;5;129;01min\u001b[39;00m lista_imagens:\n\u001b[0;32m---> 36\u001b[0m     confianca, coordenada, centro, coord_ab, inclinacao \u001b[38;5;241m=\u001b[39m \u001b[43mdetector\u001b[49m\u001b[38;5;241;43m.\u001b[39;49m\u001b[43mprever\u001b[49m\u001b[43m(\u001b[49m\u001b[43mimg\u001b[49m\u001b[43m,\u001b[49m\u001b[43m \u001b[49m\u001b[43mlimiar_acuracia\u001b[49m\u001b[38;5;241;43m=\u001b[39;49m\u001b[43mlimiar_acuracia\u001b[49m\u001b[43m)\u001b[49m\n\u001b[1;32m     37\u001b[0m     confiancas\u001b[38;5;241m.\u001b[39mappend(confianca)\n\u001b[1;32m     38\u001b[0m     coordenadas\u001b[38;5;241m.\u001b[39mappend(coordenada)\n",
      "File \u001b[0;32m~/PyWork/refilObb/DetectorDeObjetos.py:22\u001b[0m, in \u001b[0;36mDetectorObjetos.prever\u001b[0;34m(self, caminho_imagem, limiar_acuracia)\u001b[0m\n\u001b[1;32m     19\u001b[0m coords_ab \u001b[38;5;241m=\u001b[39m \u001b[38;5;28mself\u001b[39m\u001b[38;5;241m.\u001b[39m_inverter_eixo_y(coordenadas, imagem\u001b[38;5;241m.\u001b[39mshape[\u001b[38;5;241m0\u001b[39m])\n\u001b[1;32m     20\u001b[0m inclinacoes \u001b[38;5;241m=\u001b[39m \u001b[38;5;28mself\u001b[39m\u001b[38;5;241m.\u001b[39m_calcular_inclinacoes(coords_ab)\n\u001b[0;32m---> 22\u001b[0m \u001b[38;5;28mprint\u001b[39m(\u001b[38;5;124mf\u001b[39m\u001b[38;5;124m\"\u001b[39m\u001b[38;5;124mResultados salvis no caminho \u001b[39m\u001b[38;5;132;01m{\u001b[39;00m\u001b[43mpasta_resultados\u001b[49m\u001b[38;5;132;01m}\u001b[39;00m\u001b[38;5;124m\"\u001b[39m)\n\u001b[1;32m     23\u001b[0m \u001b[38;5;28;01mreturn\u001b[39;00m confiancas, coordenadas, centros, coords_ab, inclinacoes\n",
      "\u001b[0;31mNameError\u001b[0m: name 'pasta_resultados' is not defined"
     ]
    }
   ],
   "source": [
    "\n",
    "lista_confiancas, lista_coordenadas, lista_centros, lista_coords_ab, lista_inclinacoes = detector_objetos.prever_lista(IMAGENS_TESTE, detector_objetos, caminho_resultados, limiar_acuracia=0.81, limpar_pasta_resultados=True)"
   ]
  }
 ],
 "metadata": {
  "kernelspec": {
   "display_name": "Python 3",
   "language": "python",
   "name": "python3"
  },
  "language_info": {
   "codemirror_mode": {
    "name": "ipython",
    "version": 3
   },
   "file_extension": ".py",
   "mimetype": "text/x-python",
   "name": "python",
   "nbconvert_exporter": "python",
   "pygments_lexer": "ipython3",
   "version": "3.10.12"
  }
 },
 "nbformat": 4,
 "nbformat_minor": 2
}
